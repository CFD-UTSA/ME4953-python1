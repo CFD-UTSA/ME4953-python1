{
 "cells": [
  {
   "cell_type": "markdown",
   "metadata": {},
   "source": [
    "# Overview\n",
    "\n",
    "Basically just using the official [python tutorial](https://docs.python.org/2/tutorial/).\n",
    "\n",
    "### Python Basics\n",
    "1. Python (iPython) shell\n",
    "* Python files\n",
    "* iPython notebook\n",
    "* Everything is an object\n",
    "* Numbers and strings\n",
    "* Collections of items\n",
    " - Lists\n",
    " - Tuples\n",
    " - Dictionaries\n",
    "* Flow Control\n",
    " - Conditionals\n",
    " - Loops\n",
    " - Exceptions\n",
    "\n",
    "### Modules\n",
    "1. The Namespace\n",
    "* Importing\n",
    "* Functions\n",
    "* Organizing your code in modules\n",
    "\n",
    "### NumPy\n",
    "\n",
    "### SciPy\n",
    "\n",
    "### Links to Data\n",
    "\n",
    "ftp://ftp.cdc.noaa.gov/Datasets/ncep.reanalysis/surface/air.sig995.2012.nc\n",
    "\n",
    "http://www.cpc.ncep.noaa.gov/products/precip/CWlink/daily_ao_index/monthly.ao.index.b50.current.ascii\n"
   ]
  },
  {
   "cell_type": "code",
   "execution_count": null,
   "metadata": {
    "collapsed": false,
    "jupyter": {
     "outputs_hidden": false
    }
   },
   "outputs": [],
   "source": []
  }
 ],
 "metadata": {
  "gist_id": "f2ea22dcd7e5e449d4bc",
  "kernelspec": {
   "display_name": "Python 3",
   "language": "python",
   "name": "python3"
  },
  "language_info": {
   "codemirror_mode": {
    "name": "ipython",
    "version": 3
   },
   "file_extension": ".py",
   "mimetype": "text/x-python",
   "name": "python",
   "nbconvert_exporter": "python",
   "pygments_lexer": "ipython3",
   "version": "3.8.5"
  }
 },
 "nbformat": 4,
 "nbformat_minor": 4
}
